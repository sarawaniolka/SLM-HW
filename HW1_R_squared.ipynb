{
 "cells": [
  {
   "cell_type": "code",
   "execution_count": 38,
   "id": "c2166334",
   "metadata": {},
   "outputs": [],
   "source": [
    "import pandas as pd\n",
    "import numpy as np\n",
    "from scipy import stats\n",
    "import matplotlib.pyplot as plt"
   ]
  },
  {
   "cell_type": "code",
   "execution_count": 39,
   "id": "694b9a7c",
   "metadata": {},
   "outputs": [],
   "source": [
    "sizes = list(range(10,210,10))\n",
    "reps = 10000"
   ]
  },
  {
   "cell_type": "code",
   "execution_count": 40,
   "id": "a0335b9d",
   "metadata": {},
   "outputs": [],
   "source": [
    "def sim_r_squared(n):\n",
    "    x = np.random.normal(0,1,n)\n",
    "    y = 1 + x + np.random.normal(0,1,n)\n",
    "    data = pd.DataFrame({'x': x, 'y': y})\n",
    "    slope, intercept, r_value, p_value, std_err = stats.linregress(x, y)\n",
    "    return r_value**2"
   ]
  },
  {
   "cell_type": "code",
   "execution_count": 41,
   "id": "e9b87781",
   "metadata": {},
   "outputs": [],
   "source": [
    "r_squared_q95 = np.zeros(len(sizes))\n",
    "r_squared_q05 = np.zeros(len(sizes))\n",
    "r_squared_mean = np.zeros(len(sizes))"
   ]
  },
  {
   "cell_type": "code",
   "execution_count": 42,
   "id": "7f2a11c8",
   "metadata": {},
   "outputs": [
    {
     "name": "stdout",
     "output_type": "stream",
     "text": [
      "10\n",
      "20\n",
      "30\n",
      "40\n",
      "50\n",
      "60\n",
      "70\n",
      "80\n",
      "90\n",
      "100\n",
      "110\n",
      "120\n",
      "130\n",
      "140\n",
      "150\n",
      "160\n",
      "170\n",
      "180\n",
      "190\n",
      "200\n"
     ]
    }
   ],
   "source": [
    "for i in range(0,len(sizes)):\n",
    "    print(sizes[i])\n",
    "    result=list(map(lambda x: sim_r_squared(sizes[i]), range(reps)))\n",
    "    r_squared_mean[i] = np.mean(result)\n",
    "    r_squared_q95[i] = np.quantile(result, 0.95)\n",
    "    r_squared_q05[i] = np.quantile(result, 0.05)"
   ]
  },
  {
   "cell_type": "code",
   "execution_count": 43,
   "id": "146a628e",
   "metadata": {
    "scrolled": true
   },
   "outputs": [
    {
     "data": {
      "text/plain": [
       "[<matplotlib.lines.Line2D at 0x2d652f098e0>]"
      ]
     },
     "execution_count": 43,
     "metadata": {},
     "output_type": "execute_result"
    },
    {
     "data": {
      "image/png": "[encoded data removed]",
      "text/plain": [
       "<Figure size 432x288 with 1 Axes>"
      ]
     },
     "metadata": {
      "needs_background": "light"
     },
     "output_type": "display_data"
    }
   ],
   "source": [
    "plt.ylim(min(r_squared_q05), max(r_squared_q95))\n",
    "plt.plot(sizes, r_squared_mean, 'ko', mfc='none')\n",
    "plt.plot(sizes, r_squared_q05, 'k-')\n",
    "plt.plot(sizes, r_squared_q95, 'k-')"
   ]
  }
 ],
 "metadata": {
  "kernelspec": {
   "display_name": "Python 3",
   "language": "python",
   "name": "python3"
  },
  "language_info": {
   "codemirror_mode": {
    "name": "ipython",
    "version": 3
   },
   "file_extension": ".py",
   "mimetype": "text/x-python",
   "name": "python",
   "nbconvert_exporter": "python",
   "pygments_lexer": "ipython3",
   "version": "3.8.8"
  }
 },
 "nbformat": 4,
 "nbformat_minor": 5
}
