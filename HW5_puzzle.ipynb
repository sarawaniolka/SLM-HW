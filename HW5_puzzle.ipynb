{
 "cells": [
  {
   "cell_type": "markdown",
   "id": "dd1af96b",
   "metadata": {},
   "source": [
    "reproduce in Python the plot of puzzle difficulty vs popularity: aggregated scatterplot + LOESS"
   ]
  },
  {
   "cell_type": "code",
   "execution_count": 1,
   "id": "213b6ab1",
   "metadata": {},
   "outputs": [],
   "source": [
    "import numpy as np\n",
    "import pandas as pd"
   ]
  },
  {
   "cell_type": "code",
   "execution_count": 3,
   "id": "9d91533c",
   "metadata": {},
   "outputs": [
    {
     "name": "stdout",
     "output_type": "stream",
     "text": [
      "        PuzzleId                                                FEN  \\\n",
      "0          00008  r6k/pp2r2p/4Rp1Q/3p4/8/1N1P2R1/PqP2bPP/7K b - ...   \n",
      "1          0000D  5rk1/1p3ppp/pq3b2/8/8/1P1Q1N2/P4PPP/3R2K1 w - ...   \n",
      "2          0009B  r2qr1k1/b1p2ppp/pp4n1/P1P1p3/4P1n1/B2P2Pb/3NBP...   \n",
      "3          000aY  r4rk1/pp3ppp/2n1b3/q1pp2B1/8/P1Q2NP1/1PP1PP1P/...   \n",
      "4          000hf  r1bqk2r/pp1nbNp1/2p1p2p/8/2BP4/1PN3P1/P3QP1P/3...   \n",
      "...          ...                                                ...   \n",
      "2132984    zzzRN  4r2k/1NR2Q1p/4P1n1/pp1p4/3P4/4q3/PP4PP/6K1 w -...   \n",
      "2132985    zzzTs  r2qrk2/pb1n1ppQ/1p2p3/2pP2b1/3P4/3B1NN1/PP3PPP...   \n",
      "2132986    zzzUZ  r2qk2r/pp2ppbp/2n3pn/1B1pP3/3P4/5b1P/PP1N1PP1/...   \n",
      "2132987    zzzco  5Q2/pp3R1P/1kpp4/4p3/2P1P3/3PP2P/Pr2q3/2K5 w -...   \n",
      "2132988    zzzhI  r3kb1r/ppp2ppp/2n5/3q3b/3P1B2/5N1P/PPP3P1/RN1Q...   \n",
      "\n",
      "                                 Moves  Rating  RatingDeviation  Popularity  \\\n",
      "0        f2g3 e6e7 b2b1 b3c1 b1c1 h6c1    1765               74          93   \n",
      "1                  d3d6 f8d8 d6d8 f6d8    1525               74          97   \n",
      "2                  b6c5 e2g4 h3g4 d1g4    1102               75          85   \n",
      "3                  g5e7 a5c3 b2c3 c6e7    1320               74          92   \n",
      "4                  e8f7 e2e6 f7f8 e6f7    1560               76          88   \n",
      "...                                ...     ...              ...         ...   \n",
      "2132984            g1h1 e3e1 f7f1 e1f1     830              108          67   \n",
      "2132985            g5c1 d5d6 d7f6 h7h8    1828               77          83   \n",
      "2132986            d2f3 d8a5 c1d2 a5b5     980               79          92   \n",
      "2132987            f7f2 b2c2 c1b1 e2d1    1783               75          90   \n",
      "2132988  c6d4 f1e1 e8d8 b1c3 d4f3 g2f3    2481               92          77   \n",
      "\n",
      "         NbPlays                                      Themes  \\\n",
      "0            493       crushing hangingPiece long middlegame   \n",
      "1           9211                     advantage endgame short   \n",
      "2            503                  advantage middlegame short   \n",
      "3            395           advantage master middlegame short   \n",
      "4            441               mate mateIn2 middlegame short   \n",
      "...          ...                                         ...   \n",
      "2132984       31                  endgame mate mateIn2 short   \n",
      "2132985       69                  advantage middlegame short   \n",
      "2132986      593                advantage fork opening short   \n",
      "2132987      763  endgame mate mateIn2 queensideAttack short   \n",
      "2132988       45                      advantage long opening   \n",
      "\n",
      "                                       GameUrl  \n",
      "0        https://lichess.org/787zsVup/black#48  \n",
      "1              https://lichess.org/F8M8OS71#53  \n",
      "2        https://lichess.org/4MWQCxQ6/black#32  \n",
      "3              https://lichess.org/iihZGl6t#29  \n",
      "4        https://lichess.org/71ygsFeE/black#38  \n",
      "...                                        ...  \n",
      "2132984        https://lichess.org/8OHS8UmY#61  \n",
      "2132985  https://lichess.org/8SAGnBjb/black#32  \n",
      "2132986        https://lichess.org/0YzF6l5X#19  \n",
      "2132987        https://lichess.org/hZWTYIAT#69  \n",
      "2132988  https://lichess.org/N092KH4f/black#20  \n",
      "\n",
      "[2132989 rows x 9 columns]\n"
     ]
    }
   ],
   "source": [
    "puzzles = pd.read_csv (r'C:\\Users\\Sara\\Downloads\\puzzles.csv', names=[\"PuzzleId\",\"FEN\",\"Moves\",\"Rating\",\"RatingDeviation\",\"Popularity\",\"NbPlays\",\"Themes\",\"GameUrl\"])\n",
    "print (puzzles)"
   ]
  },
  {
   "cell_type": "code",
   "execution_count": 4,
   "id": "960dd623",
   "metadata": {},
   "outputs": [
    {
     "ename": "NameError",
     "evalue": "name 'head' is not defined",
     "output_type": "error",
     "traceback": [
      "\u001b[1;31m---------------------------------------------------------------------------\u001b[0m",
      "\u001b[1;31mNameError\u001b[0m                                 Traceback (most recent call last)",
      "\u001b[1;32m<ipython-input-4-849f4b17fda5>\u001b[0m in \u001b[0;36m<module>\u001b[1;34m\u001b[0m\n\u001b[1;32m----> 1\u001b[1;33m \u001b[0mhead\u001b[0m\u001b[1;33m(\u001b[0m\u001b[0mpuzzles\u001b[0m\u001b[1;33m)\u001b[0m\u001b[1;33m\u001b[0m\u001b[1;33m\u001b[0m\u001b[0m\n\u001b[0m",
      "\u001b[1;31mNameError\u001b[0m: name 'head' is not defined"
     ]
    }
   ],
   "source": [
    "np.histogram()"
   ]
  },
  {
   "cell_type": "code",
   "execution_count": null,
   "id": "189d9527",
   "metadata": {},
   "outputs": [],
   "source": []
  }
 ],
 "metadata": {
  "kernelspec": {
   "display_name": "Python 3",
   "language": "python",
   "name": "python3"
  },
  "language_info": {
   "codemirror_mode": {
    "name": "ipython",
    "version": 3
   },
   "file_extension": ".py",
   "mimetype": "text/x-python",
   "name": "python",
   "nbconvert_exporter": "python",
   "pygments_lexer": "ipython3",
   "version": "3.8.8"
  }
 },
 "nbformat": 4,
 "nbformat_minor": 5
}
