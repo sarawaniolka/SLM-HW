{
 "cells": [
  {
   "cell_type": "markdown",
   "id": "6b0026b2",
   "metadata": {},
   "source": [
    "# Reproduce https://en.wikipedia.org/wiki/Sicherman_dice experiment using R or Python"
   ]
  },
  {
   "cell_type": "code",
   "execution_count": 1,
   "id": "34a67f63",
   "metadata": {},
   "outputs": [
    {
     "data": {
      "text/plain": [
       "{2: 1, 3: 2, 4: 3, 5: 4, 6: 5, 7: 6, 8: 5, 9: 4, 10: 3, 11: 2, 12: 1}"
      ]
     },
     "execution_count": 1,
     "metadata": {},
     "output_type": "execute_result"
    }
   ],
   "source": [
    "###2 regular dice:\n",
    "regular_die = [1,2,3,4,5,6]\n",
    "def sum_of_dice(die1, die2):\n",
    "    distribution = dict()\n",
    "    for i in die1:\n",
    "        for j in die2:\n",
    "            sum = i + j\n",
    "            if sum in distribution:\n",
    "                distribution[sum] = distribution[sum] + 1\n",
    "            else:\n",
    "                distribution[sum] = 1\n",
    "    return(distribution)\n",
    "\n",
    "\n",
    "sum_of_dice(regular_die, regular_die)"
   ]
  },
  {
   "cell_type": "code",
   "execution_count": 13,
   "id": "0c8779a5",
   "metadata": {},
   "outputs": [
    {
     "name": "stdout",
     "output_type": "stream",
     "text": [
      "{(1, 3, 4, 5, 6, 8), (1, 2, 2, 3, 3, 4)}\n"
     ]
    }
   ],
   "source": [
    "###The Sicherman dice:\n",
    "#there can be only 1 sum = 2 -> only one number 1 on every die is allowed and there must be a 1, bc it's the only way to get a sum of 2\n",
    "solution = set()\n",
    "def all_dice():\n",
    "    return [(1, x2, x3, x4, x5, x6)\n",
    "    for x2 in range(2, 11)\n",
    "    for x3 in range (x2, 11)\n",
    "    for x4 in range (x3, 11)\n",
    "    for x5 in range (x4, 11)\n",
    "    for x6 in range (x5, 11)]\n",
    "\n",
    "len(all_dice())\n",
    "for die1 in all_dice():\n",
    "    for die2 in all_dice():\n",
    "        if sum_of_dice(die1, die2) == sum_of_dice(regular_die, regular_die):\n",
    "            if die1 != die2: #eliminating regular dice\n",
    "                solution.add(die1)\n",
    "                solution.add(die2)\n",
    "print(solution)"
   ]
  }
 ],
 "metadata": {
  "kernelspec": {
   "display_name": "Python 3",
   "language": "python",
   "name": "python3"
  },
  "language_info": {
   "codemirror_mode": {
    "name": "ipython",
    "version": 3
   },
   "file_extension": ".py",
   "mimetype": "text/x-python",
   "name": "python",
   "nbconvert_exporter": "python",
   "pygments_lexer": "ipython3",
   "version": "3.8.8"
  }
 },
 "nbformat": 4,
 "nbformat_minor": 5
}
