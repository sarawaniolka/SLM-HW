{
 "cells": [
  {
   "cell_type": "markdown",
   "id": "dd1af96b",
   "metadata": {},
   "source": [
    "## Read the contents of puzzles.csv both in Python and R and send the output of the terminal to Łukasz Kraiński"
   ]
  },
  {
   "cell_type": "code",
   "execution_count": 2,
   "id": "213b6ab1",
   "metadata": {},
   "outputs": [],
   "source": [
    "import pandas as pd"
   ]
  },
  {
   "cell_type": "code",
   "execution_count": 3,
   "id": "9d91533c",
   "metadata": {},
   "outputs": [
    {
     "name": "stdout",
     "output_type": "stream",
     "text": [
      "         00008 r6k/pp2r2p/4Rp1Q/3p4/8/1N1P2R1/PqP2bPP/7K b - - 0 24  \\\n",
      "0        0000D  5rk1/1p3ppp/pq3b2/8/8/1P1Q1N2/P4PPP/3R2K1 w - ...     \n",
      "1        0009B  r2qr1k1/b1p2ppp/pp4n1/P1P1p3/4P1n1/B2P2Pb/3NBP...     \n",
      "2        000aY  r4rk1/pp3ppp/2n1b3/q1pp2B1/8/P1Q2NP1/1PP1PP1P/...     \n",
      "3        000hf  r1bqk2r/pp1nbNp1/2p1p2p/8/2BP4/1PN3P1/P3QP1P/3...     \n",
      "4        000rO          3R4/8/K7/pB2b3/1p6/1P2k3/3p4/8 w - - 4 58     \n",
      "...        ...                                                ...     \n",
      "2132983  zzzRN  4r2k/1NR2Q1p/4P1n1/pp1p4/3P4/4q3/PP4PP/6K1 w -...     \n",
      "2132984  zzzTs  r2qrk2/pb1n1ppQ/1p2p3/2pP2b1/3P4/3B1NN1/PP3PPP...     \n",
      "2132985  zzzUZ  r2qk2r/pp2ppbp/2n3pn/1B1pP3/3P4/5b1P/PP1N1PP1/...     \n",
      "2132986  zzzco  5Q2/pp3R1P/1kpp4/4p3/2P1P3/3PP2P/Pr2q3/2K5 w -...     \n",
      "2132987  zzzhI  r3kb1r/ppp2ppp/2n5/3q3b/3P1B2/5N1P/PPP3P1/RN1Q...     \n",
      "\n",
      "         f2g3 e6e7 b2b1 b3c1 b1c1 h6c1  1765   74  93   493  \\\n",
      "0                  d3d6 f8d8 d6d8 f6d8  1525   74  97  9211   \n",
      "1                  b6c5 e2g4 h3g4 d1g4  1102   75  85   503   \n",
      "2                  g5e7 a5c3 b2c3 c6e7  1320   74  92   395   \n",
      "3                  e8f7 e2e6 f7f8 e6f7  1560   76  88   441   \n",
      "4                  a6a5 e5c7 a5b4 c7d8  1039   80  85    54   \n",
      "...                                ...   ...  ...  ..   ...   \n",
      "2132983            g1h1 e3e1 f7f1 e1f1   830  108  67    31   \n",
      "2132984            g5c1 d5d6 d7f6 h7h8  1828   77  83    69   \n",
      "2132985            d2f3 d8a5 c1d2 a5b5   980   79  92   593   \n",
      "2132986            f7f2 b2c2 c1b1 e2d1  1783   75  90   763   \n",
      "2132987  c6d4 f1e1 e8d8 b1c3 d4f3 g2f3  2481   92  77    45   \n",
      "\n",
      "              crushing hangingPiece long middlegame  \\\n",
      "0                           advantage endgame short   \n",
      "1                        advantage middlegame short   \n",
      "2                 advantage master middlegame short   \n",
      "3                     mate mateIn2 middlegame short   \n",
      "4                       crushing endgame fork short   \n",
      "...                                             ...   \n",
      "2132983                  endgame mate mateIn2 short   \n",
      "2132984                  advantage middlegame short   \n",
      "2132985                advantage fork opening short   \n",
      "2132986  endgame mate mateIn2 queensideAttack short   \n",
      "2132987                      advantage long opening   \n",
      "\n",
      "         https://lichess.org/787zsVup/black#48  \n",
      "0              https://lichess.org/F8M8OS71#53  \n",
      "1        https://lichess.org/4MWQCxQ6/black#32  \n",
      "2              https://lichess.org/iihZGl6t#29  \n",
      "3        https://lichess.org/71ygsFeE/black#38  \n",
      "4             https://lichess.org/tzeeBEc2#115  \n",
      "...                                        ...  \n",
      "2132983        https://lichess.org/8OHS8UmY#61  \n",
      "2132984  https://lichess.org/8SAGnBjb/black#32  \n",
      "2132985        https://lichess.org/0YzF6l5X#19  \n",
      "2132986        https://lichess.org/hZWTYIAT#69  \n",
      "2132987  https://lichess.org/N092KH4f/black#20  \n",
      "\n",
      "[2132988 rows x 9 columns]\n"
     ]
    }
   ],
   "source": [
    "puzzles = pd.read_csv (r'C:\\Users\\Sara\\Downloads\\puzzles.csv')\n",
    "print (puzzles)"
   ]
  },
  {
   "cell_type": "markdown",
   "id": "ef9114d4",
   "metadata": {},
   "source": [
    "## for R:"
   ]
  },
  {
   "cell_type": "markdown",
   "id": "f6d0f260",
   "metadata": {},
   "source": [
    "puzzles <- read.csv(\"C:\\\\Users\\\\Sara\\\\Downloads\\\\puzzles.csv\", header=FALSE)   \n",
    "head(puzzles)"
   ]
  },
  {
   "cell_type": "markdown",
   "id": "bede6993",
   "metadata": {},
   "source": [
    "  V1                                                                   V2                            V3   V4 V5 V6   V7   \n",
    "1 00008                 r6k/pp2r2p/4Rp1Q/3p4/8/1N1P2R1/PqP2bPP/7K b - - 0 24 f2g3 e6e7 b2b1 b3c1 b1c1 h6c1 1765 74 93  493   \n",
    "2 0000D                 5rk1/1p3ppp/pq3b2/8/8/1P1Q1N2/P4PPP/3R2K1 w - - 2 27           d3d6 f8d8 d6d8 f6d8 1525 74 97 9211   \n",
    "3 0009B r2qr1k1/b1p2ppp/pp4n1/P1P1p3/4P1n1/B2P2Pb/3NBP1P/RN1QR1K1 b - - 1 16           b6c5 e2g4 h3g4 d1g4 1102 75 85  503   \n",
    "4 000aY       r4rk1/pp3ppp/2n1b3/q1pp2B1/8/P1Q2NP1/1PP1PP1P/2KR3R w - - 0 15           g5e7 a5c3 b2c3 c6e7 1320 74 92  395   \n",
    "5 000hf      r1bqk2r/pp1nbNp1/2p1p2p/8/2BP4/1PN3P1/P3QP1P/3R1RK1 b kq - 0 19           e8f7 e2e6 f7f8 e6f7 1560 76 88  441   \n",
    "6 000rO                            3R4/8/K7/pB2b3/1p6/1P2k3/3p4/8 w - - 4 58           a6a5 e5c7 a5b4 c7d8 1039 80 85   54   \n",
    "                                     V8                                    V9   \n",
    "1 crushing hangingPiece long middlegame https://lichess.org/787zsVup/black#48   \n",
    "2               advantage endgame short       https://lichess.org/F8M8OS71#53   \n",
    "3            advantage middlegame short https://lichess.org/4MWQCxQ6/black#32   \n",
    "4     advantage master middlegame short       https://lichess.org/iihZGl6t#29   \n",
    "5         mate mateIn2 middlegame short https://lichess.org/71ygsFeE/black#38   \n",
    "6           crushing endgame fork short      https://lichess.org/tzeeBEc2#115   "
   ]
  }
 ],
 "metadata": {
  "kernelspec": {
   "display_name": "Python 3",
   "language": "python",
   "name": "python3"
  },
  "language_info": {
   "codemirror_mode": {
    "name": "ipython",
    "version": 3
   },
   "file_extension": ".py",
   "mimetype": "text/x-python",
   "name": "python",
   "nbconvert_exporter": "python",
   "pygments_lexer": "ipython3",
   "version": "3.8.8"
  }
 },
 "nbformat": 4,
 "nbformat_minor": 5
}
